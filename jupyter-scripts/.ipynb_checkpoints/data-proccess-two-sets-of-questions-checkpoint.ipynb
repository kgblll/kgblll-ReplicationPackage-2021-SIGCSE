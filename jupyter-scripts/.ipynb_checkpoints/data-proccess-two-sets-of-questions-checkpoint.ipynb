{
 "cells": [
  {
   "cell_type": "markdown",
   "metadata": {},
   "source": [
    "# Data processing - two sets of questions"
   ]
  },
  {
   "cell_type": "code",
   "execution_count": 1,
   "metadata": {},
   "outputs": [],
   "source": [
    "import pandas as pd\n",
    "from scipy import stats\n",
    "import matplotlib.pyplot as plt"
   ]
  },
  {
   "cell_type": "code",
   "execution_count": 2,
   "metadata": {},
   "outputs": [],
   "source": [
    "df_result = pd.read_excel('../datos/datos_SIGCSE.xlsx', index_col=0)"
   ]
  },
  {
   "cell_type": "markdown",
   "metadata": {},
   "source": [
    "Numerical columns are extracted to a new dataframe. Columns 4 to 18 corresponds to option questions of pre-test and columns 25 to 39 are the same questions but asked in post-test. These set of questions are used to perform quantitative analysis."
   ]
  },
  {
   "cell_type": "code",
   "execution_count": 3,
   "metadata": {},
   "outputs": [],
   "source": [
    "df_sexo_curso = df_result[[\n",
    "    \"pre_¿Cuál es tu sexo?\", \n",
    "    \"pre_Curso\",    \n",
    "    \"pre_Pregunta 17\", # Programming experience\n",
    "]]\n",
    "\n",
    "df_pre_1 = df_result.iloc[:, 4:14] # [:, 4:18] [:, 4:14] [:, 15:18]\n",
    "df_post_1 = df_result.iloc[:, 25:35] # [:, 25: 39] [:, 25:35] [:,36:39]\n",
    "df_pre_2 = df_result.iloc[:, 15:18] # [:, 4:18] [:, 4:14] [:, 15:18]\n",
    "df_post_2 = df_result.iloc[:, 36:39] # [:, 25: 39] [:, 25:35] [:,36:39]\n",
    "pieces = [df_pre_1, df_pre_2, df_post_1, df_post_2, df_sexo_curso]\n",
    "df = pd.concat(pieces,axis=1)"
   ]
  },
  {
   "cell_type": "markdown",
   "metadata": {},
   "source": [
    "Columns \"pre sum\" (sum of results in pre-test), \"post sum\" (sum of results in post-test) and \"difference\" (difference between these sums) are added to dataframe. "
   ]
  },
  {
   "cell_type": "code",
   "execution_count": 4,
   "metadata": {},
   "outputs": [],
   "source": [
    "df['pre_1 sum'] = df_pre_1.sum(axis=1)\n",
    "df['pre_2 sum'] = df_pre_2.sum(axis=1)\n",
    "df['post_1 sum'] = df_post_1.sum(axis=1)\n",
    "df['post_2 sum'] = df_post_2.sum(axis=1)\n",
    "df['difference_1'] = df['post_1 sum'] - df['pre_1 sum']\n",
    "df['difference_2'] = df['post_2 sum'] - df['pre_2 sum']"
   ]
  },
  {
   "cell_type": "markdown",
   "metadata": {},
   "source": [
    "Only primary and secondary studens remain"
   ]
  },
  {
   "cell_type": "code",
   "execution_count": 5,
   "metadata": {},
   "outputs": [],
   "source": [
    "df = df[df['pre_Curso'] != \"Otro\"]"
   ]
  },
  {
   "cell_type": "markdown",
   "metadata": {},
   "source": [
    "Subjects who have left any question blank are removed"
   ]
  },
  {
   "cell_type": "code",
   "execution_count": 6,
   "metadata": {},
   "outputs": [],
   "source": [
    "df_clean = df.dropna()"
   ]
  },
  {
   "cell_type": "code",
   "execution_count": 7,
   "metadata": {},
   "outputs": [],
   "source": [
    "is_boy = df_clean[\"pre_¿Cuál es tu sexo?\"] == \"Chico\"\n",
    "is_girl = df_clean[\"pre_¿Cuál es tu sexo?\"] == \"Chica\"\n",
    "is_primary = df_clean['pre_Curso'].str.contains(\"Primaria\")\n",
    "is_secondary = df_clean['pre_Curso'].str.contains(\"ESO\")\n",
    "df_boy = df_clean[is_boy]\n",
    "df_girl = df_clean[is_girl]\n",
    "df_primary = df_clean[is_primary]\n",
    "df_secondary = df_clean[is_secondary]"
   ]
  },
  {
   "cell_type": "markdown",
   "metadata": {},
   "source": [
    "Sex distribution"
   ]
  },
  {
   "cell_type": "code",
   "execution_count": 8,
   "metadata": {},
   "outputs": [
    {
     "data": {
      "text/plain": [
       "Chico                  77\n",
       "Chica                  56\n",
       "No quiero responder     4\n",
       "Name: pre_¿Cuál es tu sexo?, dtype: int64"
      ]
     },
     "execution_count": 8,
     "metadata": {},
     "output_type": "execute_result"
    }
   ],
   "source": [
    "df_clean[\"pre_¿Cuál es tu sexo?\"].value_counts()"
   ]
  },
  {
   "cell_type": "markdown",
   "metadata": {},
   "source": [
    "Course distribution"
   ]
  },
  {
   "cell_type": "code",
   "execution_count": 9,
   "metadata": {},
   "outputs": [
    {
     "data": {
      "text/plain": [
       "4º ESO         65\n",
       "5º Primaria    24\n",
       "6º Primaria    23\n",
       "3º ESO         15\n",
       "2º ESO          7\n",
       "1º ESO          3\n",
       "Name: pre_Curso, dtype: int64"
      ]
     },
     "execution_count": 9,
     "metadata": {},
     "output_type": "execute_result"
    }
   ],
   "source": [
    "df_clean[\"pre_Curso\"].value_counts()"
   ]
  },
  {
   "cell_type": "markdown",
   "metadata": {},
   "source": [
    "Programming experience distribution"
   ]
  },
  {
   "cell_type": "code",
   "execution_count": 10,
   "metadata": {},
   "outputs": [
    {
     "data": {
      "text/plain": [
       "Sí                                         107\n",
       "No                                          27\n",
       "No, pero he programado en otro lenguage      3\n",
       "Name: pre_Pregunta 17, dtype: int64"
      ]
     },
     "execution_count": 10,
     "metadata": {},
     "output_type": "execute_result"
    }
   ],
   "source": [
    "df_clean[\"pre_Pregunta 17\"].value_counts()"
   ]
  },
  {
   "cell_type": "code",
   "execution_count": 11,
   "metadata": {},
   "outputs": [],
   "source": [
    "df_final = df_clean\n",
    "#df_final = df_boy\n",
    "#df_final = df_girl\n",
    "#df_final = df_primary\n",
    "#df_final = df_secondary"
   ]
  },
  {
   "cell_type": "markdown",
   "metadata": {},
   "source": [
    "Columns \"pre sum\", \"post sum\" and \"difference\" are statistically described."
   ]
  },
  {
   "cell_type": "code",
   "execution_count": 12,
   "metadata": {},
   "outputs": [
    {
     "data": {
      "text/html": [
       "<div>\n",
       "<style scoped>\n",
       "    .dataframe tbody tr th:only-of-type {\n",
       "        vertical-align: middle;\n",
       "    }\n",
       "\n",
       "    .dataframe tbody tr th {\n",
       "        vertical-align: top;\n",
       "    }\n",
       "\n",
       "    .dataframe thead th {\n",
       "        text-align: right;\n",
       "    }\n",
       "</style>\n",
       "<table border=\"1\" class=\"dataframe\">\n",
       "  <thead>\n",
       "    <tr style=\"text-align: right;\">\n",
       "      <th></th>\n",
       "      <th>pre_1 sum</th>\n",
       "      <th>post_1 sum</th>\n",
       "      <th>difference_1</th>\n",
       "    </tr>\n",
       "  </thead>\n",
       "  <tbody>\n",
       "    <tr>\n",
       "      <td>count</td>\n",
       "      <td>137.000000</td>\n",
       "      <td>137.000000</td>\n",
       "      <td>137.000000</td>\n",
       "    </tr>\n",
       "    <tr>\n",
       "      <td>mean</td>\n",
       "      <td>6.766423</td>\n",
       "      <td>7.671533</td>\n",
       "      <td>0.905109</td>\n",
       "    </tr>\n",
       "    <tr>\n",
       "      <td>std</td>\n",
       "      <td>2.066052</td>\n",
       "      <td>2.138958</td>\n",
       "      <td>1.858538</td>\n",
       "    </tr>\n",
       "    <tr>\n",
       "      <td>min</td>\n",
       "      <td>1.000000</td>\n",
       "      <td>2.000000</td>\n",
       "      <td>-4.000000</td>\n",
       "    </tr>\n",
       "    <tr>\n",
       "      <td>25%</td>\n",
       "      <td>6.000000</td>\n",
       "      <td>7.000000</td>\n",
       "      <td>0.000000</td>\n",
       "    </tr>\n",
       "    <tr>\n",
       "      <td>50%</td>\n",
       "      <td>7.000000</td>\n",
       "      <td>8.000000</td>\n",
       "      <td>1.000000</td>\n",
       "    </tr>\n",
       "    <tr>\n",
       "      <td>75%</td>\n",
       "      <td>8.000000</td>\n",
       "      <td>9.000000</td>\n",
       "      <td>2.000000</td>\n",
       "    </tr>\n",
       "    <tr>\n",
       "      <td>max</td>\n",
       "      <td>10.000000</td>\n",
       "      <td>10.000000</td>\n",
       "      <td>8.000000</td>\n",
       "    </tr>\n",
       "  </tbody>\n",
       "</table>\n",
       "</div>"
      ],
      "text/plain": [
       "        pre_1 sum  post_1 sum  difference_1\n",
       "count  137.000000  137.000000    137.000000\n",
       "mean     6.766423    7.671533      0.905109\n",
       "std      2.066052    2.138958      1.858538\n",
       "min      1.000000    2.000000     -4.000000\n",
       "25%      6.000000    7.000000      0.000000\n",
       "50%      7.000000    8.000000      1.000000\n",
       "75%      8.000000    9.000000      2.000000\n",
       "max     10.000000   10.000000      8.000000"
      ]
     },
     "execution_count": 12,
     "metadata": {},
     "output_type": "execute_result"
    }
   ],
   "source": [
    "df_final[['pre_1 sum', 'post_1 sum', 'difference_1']].describe()"
   ]
  },
  {
   "cell_type": "code",
   "execution_count": 13,
   "metadata": {},
   "outputs": [
    {
     "data": {
      "text/html": [
       "<div>\n",
       "<style scoped>\n",
       "    .dataframe tbody tr th:only-of-type {\n",
       "        vertical-align: middle;\n",
       "    }\n",
       "\n",
       "    .dataframe tbody tr th {\n",
       "        vertical-align: top;\n",
       "    }\n",
       "\n",
       "    .dataframe thead th {\n",
       "        text-align: right;\n",
       "    }\n",
       "</style>\n",
       "<table border=\"1\" class=\"dataframe\">\n",
       "  <thead>\n",
       "    <tr style=\"text-align: right;\">\n",
       "      <th></th>\n",
       "      <th>pre_2 sum</th>\n",
       "      <th>post_2 sum</th>\n",
       "      <th>difference_2</th>\n",
       "    </tr>\n",
       "  </thead>\n",
       "  <tbody>\n",
       "    <tr>\n",
       "      <td>count</td>\n",
       "      <td>137.000000</td>\n",
       "      <td>137.000000</td>\n",
       "      <td>137.000000</td>\n",
       "    </tr>\n",
       "    <tr>\n",
       "      <td>mean</td>\n",
       "      <td>1.992701</td>\n",
       "      <td>2.025547</td>\n",
       "      <td>0.032847</td>\n",
       "    </tr>\n",
       "    <tr>\n",
       "      <td>std</td>\n",
       "      <td>0.503610</td>\n",
       "      <td>0.521843</td>\n",
       "      <td>0.615231</td>\n",
       "    </tr>\n",
       "    <tr>\n",
       "      <td>min</td>\n",
       "      <td>0.750000</td>\n",
       "      <td>0.750000</td>\n",
       "      <td>-2.000000</td>\n",
       "    </tr>\n",
       "    <tr>\n",
       "      <td>25%</td>\n",
       "      <td>1.750000</td>\n",
       "      <td>1.750000</td>\n",
       "      <td>-0.250000</td>\n",
       "    </tr>\n",
       "    <tr>\n",
       "      <td>50%</td>\n",
       "      <td>2.000000</td>\n",
       "      <td>2.000000</td>\n",
       "      <td>0.000000</td>\n",
       "    </tr>\n",
       "    <tr>\n",
       "      <td>75%</td>\n",
       "      <td>2.250000</td>\n",
       "      <td>2.500000</td>\n",
       "      <td>0.500000</td>\n",
       "    </tr>\n",
       "    <tr>\n",
       "      <td>max</td>\n",
       "      <td>3.000000</td>\n",
       "      <td>3.000000</td>\n",
       "      <td>1.500000</td>\n",
       "    </tr>\n",
       "  </tbody>\n",
       "</table>\n",
       "</div>"
      ],
      "text/plain": [
       "        pre_2 sum  post_2 sum  difference_2\n",
       "count  137.000000  137.000000    137.000000\n",
       "mean     1.992701    2.025547      0.032847\n",
       "std      0.503610    0.521843      0.615231\n",
       "min      0.750000    0.750000     -2.000000\n",
       "25%      1.750000    1.750000     -0.250000\n",
       "50%      2.000000    2.000000      0.000000\n",
       "75%      2.250000    2.500000      0.500000\n",
       "max      3.000000    3.000000      1.500000"
      ]
     },
     "execution_count": 13,
     "metadata": {},
     "output_type": "execute_result"
    }
   ],
   "source": [
    "df_final[['pre_2 sum', 'post_2 sum', 'difference_2']].describe()"
   ]
  },
  {
   "cell_type": "code",
   "execution_count": 14,
   "metadata": {},
   "outputs": [
    {
     "data": {
      "text/plain": [
       "<matplotlib.axes._subplots.AxesSubplot at 0x7fdca6ea2510>"
      ]
     },
     "execution_count": 14,
     "metadata": {},
     "output_type": "execute_result"
    },
    {
     "data": {
      "image/png": "[encoded data removed]",
      "text/plain": [
       "<Figure size 432x288 with 1 Axes>"
      ]
     },
     "metadata": {
      "needs_background": "light"
     },
     "output_type": "display_data"
    }
   ],
   "source": [
    "df_final[[\"pre_1 sum\", \"post_1 sum\"]].plot(kind='box')"
   ]
  },
  {
   "cell_type": "code",
   "execution_count": 15,
   "metadata": {},
   "outputs": [
    {
     "data": {
      "text/plain": [
       "<matplotlib.axes._subplots.AxesSubplot at 0x7fdca791bc90>"
      ]
     },
     "execution_count": 15,
     "metadata": {},
     "output_type": "execute_result"
    },
    {
     "data": {
      "image/png": "[encoded data removed]",
      "text/plain": [
       "<Figure size 432x288 with 1 Axes>"
      ]
     },
     "metadata": {
      "needs_background": "light"
     },
     "output_type": "display_data"
    }
   ],
   "source": [
    "df_final[[\"pre_2 sum\", \"post_2 sum\"]].plot(kind='box')"
   ]
  },
  {
   "cell_type": "markdown",
   "metadata": {},
   "source": [
    "Let's see if \"pre sum\", \"post sum\" and \"difference\" columns fit a normal distribution by means of a shapiro-wilk test."
   ]
  },
  {
   "cell_type": "code",
   "execution_count": 27,
   "metadata": {},
   "outputs": [
    {
     "name": "stdout",
     "output_type": "stream",
     "text": [
      "(0.9493810534477234, 6.510740786325186e-05)\n",
      "(0.9662784934043884, 0.0018096069106832147)\n"
     ]
    }
   ],
   "source": [
    "shap_pre_1 = stats.shapiro(df_final[\"pre_1 sum\"])\n",
    "shap_pre_2 = stats.shapiro(df_final[\"pre_2 sum\"])\n",
    "print(shap_pre_1)\n",
    "print(shap_pre_2)"
   ]
  },
  {
   "cell_type": "code",
   "execution_count": 28,
   "metadata": {},
   "outputs": [
    {
     "name": "stdout",
     "output_type": "stream",
     "text": [
      "(0.8798426985740662, 3.812515636525404e-09)\n",
      "(0.9641442894935608, 0.0011517094681039453)\n"
     ]
    }
   ],
   "source": [
    "shap_post_1 = stats.shapiro(df_final[\"post_1 sum\"])\n",
    "shap_post_2 = stats.shapiro(df_final[\"post_2 sum\"])\n",
    "print(shap_post_1)\n",
    "print(shap_post_2)"
   ]
  },
  {
   "cell_type": "code",
   "execution_count": 29,
   "metadata": {},
   "outputs": [
    {
     "name": "stdout",
     "output_type": "stream",
     "text": [
      "(0.9371080994606018, 7.948834536364302e-06)\n",
      "(0.9741672873497009, 0.010491413064301014)\n"
     ]
    }
   ],
   "source": [
    "shap_diff_1 = stats.shapiro(df_final[\"post_1 sum\"] - df_final[\"pre_1 sum\"])\n",
    "shap_diff_2 = stats.shapiro(df_final[\"post_2 sum\"] - df_final[\"pre_2 sum\"])\n",
    "print(shap_diff_1)\n",
    "print(shap_diff_2)"
   ]
  },
  {
   "cell_type": "code",
   "execution_count": 30,
   "metadata": {},
   "outputs": [
    {
     "name": "stdout",
     "output_type": "stream",
     "text": [
      "WilcoxonResult(statistic=1090.0, pvalue=1.1076796815276868e-07)\n",
      "WilcoxonResult(statistic=2714.5, pvalue=0.3087963515032238)\n"
     ]
    }
   ],
   "source": [
    "wil_1 = stats.wilcoxon(df_final[\"post_1 sum\"], df_final[\"pre_1 sum\"])\n",
    "wil_2 = stats.wilcoxon(df_final[\"post_2 sum\"], df_final[\"pre_2 sum\"])\n",
    "print(wil_1)\n",
    "print(wil_2)"
   ]
  },
  {
   "cell_type": "code",
   "execution_count": 31,
   "metadata": {},
   "outputs": [
    {
     "name": "stdout",
     "output_type": "stream",
     "text": [
      "Ttest_relResult(statistic=5.700197057660559, pvalue=7.123182265748376e-08)\n",
      "Ttest_relResult(statistic=0.6249053881844231, pvalue=0.5330802099833072)\n"
     ]
    }
   ],
   "source": [
    "tt_1 = stats.ttest_rel(df_final[\"post_1 sum\"], df_final[\"pre_1 sum\"])\n",
    "tt_2 = stats.ttest_rel(df_final[\"post_2 sum\"], df_final[\"pre_2 sum\"])\n",
    "print(tt_1)\n",
    "print(tt_2)"
   ]
  },
  {
   "cell_type": "code",
   "execution_count": 24,
   "metadata": {},
   "outputs": [
    {
     "name": "stdout",
     "output_type": "stream",
     "text": [
      "Cohens d: 0.4304\n",
      "Cohens d: 0.0641\n"
     ]
    }
   ],
   "source": [
    "from numpy.random import randn\n",
    "from numpy.random import seed\n",
    "from numpy import mean\n",
    "from numpy import var\n",
    "from math import sqrt\n",
    "\n",
    "def cohend(d1, d2):\n",
    "\t# calculate the size of samples\n",
    "\tn1, n2 = len(d1), len(d2)\n",
    "\t# calculate the variance of the samples\n",
    "\ts1, s2 = var(d1, ddof=1), var(d2, ddof=1)\n",
    "\t# calculate the pooled standard deviation\n",
    "\ts = sqrt(((n1 - 1) * s1 + (n2 - 1) * s2) / (n1 + n2 - 2))\n",
    "\t# calculate the means of the samples\n",
    "\tu1, u2 = mean(d1), mean(d2)\n",
    "\t# calculate the effect size\n",
    "\treturn (u1 - u2) / s\n",
    "\n",
    "d1 = cohend(df_final[\"post_1 sum\"], df_final[\"pre_1 sum\"])\n",
    "d2 = cohend(df_final[\"post_2 sum\"], df_final[\"pre_2 sum\"])\n",
    "print('Cohens d: %.4f' % d1)\n",
    "print('Cohens d: %.4f' % d2)"
   ]
  },
  {
   "cell_type": "markdown",
   "metadata": {},
   "source": [
    "This result indicates a moderate effect size, so we can conclude that the intervention, in addition to having a statistical significance, has a practical significance."
   ]
  }
 ],
 "metadata": {
  "kernelspec": {
   "display_name": "Python 3",
   "language": "python",
   "name": "python3"
  },
  "language_info": {
   "codemirror_mode": {
    "name": "ipython",
    "version": 3
   },
   "file_extension": ".py",
   "mimetype": "text/x-python",
   "name": "python",
   "nbconvert_exporter": "python",
   "pygments_lexer": "ipython3",
   "version": "3.7.4"
  }
 },
 "nbformat": 4,
 "nbformat_minor": 4
}
