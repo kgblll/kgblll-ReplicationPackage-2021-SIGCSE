{
 "cells": [
  {
   "cell_type": "code",
   "execution_count": 27,
   "metadata": {},
   "outputs": [],
   "source": [
    "import pandas as pd\n",
    "from scipy import stats\n",
    "import matplotlib.pyplot as plt"
   ]
  },
  {
   "cell_type": "code",
   "execution_count": 28,
   "metadata": {},
   "outputs": [],
   "source": [
    "df_result = pd.read_excel('../data/datos_SIGCSE.xlsx', index_col=0)"
   ]
  },
  {
   "cell_type": "markdown",
   "metadata": {},
   "source": [
    "Numerical columns are extracted to a new dataframe. Columns 4 to 18 corresponds to option questions of pre-test and columns 25 to 39 are the same questions but asked in post-test. These set of questions are used to perform quantitative analysis."
   ]
  },
  {
   "cell_type": "code",
   "execution_count": 29,
   "metadata": {},
   "outputs": [],
   "source": [
    "df_sexo_curso = df_result[[\n",
    "    \"pre_¿Cuál es tu sexo?\", \n",
    "    \"pre_Curso\",    \n",
    "    \"pre_Pregunta 17\", # Programming experience\n",
    "    \"post_Pregunta 17\",\n",
    "    \"post_Pregunta 18\",\n",
    "    \"post_Pregunta 19\",\n",
    "    #\"pre_Pregunta 1\",\n",
    "    #\"post_Pregunta 1\"\n",
    "]]\n",
    "\n",
    "df_pre = df_result.iloc[:, 4:18] # [:, 4:18] [:, 4:14] [:, 15:18]\n",
    "df_post = df_result.iloc[:, 25:39] # [:, 25: 39] [:, 25:35] [:,36:39]\n",
    "pieces = [df_pre, df_post, df_sexo_curso]\n",
    "df = pd.concat(pieces,axis=1)"
   ]
  },
  {
   "cell_type": "markdown",
   "metadata": {},
   "source": [
    "Columns \"pre sum\" (sum of results in pre-test), \"post sum\" (sum of results in post-test) and \"difference\" (difference between these sums) are added to dataframe. "
   ]
  },
  {
   "cell_type": "code",
   "execution_count": 30,
   "metadata": {},
   "outputs": [],
   "source": [
    "df['pre sum'] = df_pre.sum(axis=1)\n",
    "df['post sum'] = df_post.sum(axis=1)\n",
    "df['difference'] = df['post sum'] - df['pre sum']"
   ]
  },
  {
   "cell_type": "markdown",
   "metadata": {},
   "source": [
    "Only primary and secondary studens remain"
   ]
  },
  {
   "cell_type": "code",
   "execution_count": 31,
   "metadata": {},
   "outputs": [],
   "source": [
    "df = df[df['pre_Curso'] != \"Otro\"]"
   ]
  },
  {
   "cell_type": "code",
   "execution_count": 32,
   "metadata": {},
   "outputs": [],
   "source": [
    "#df = df[df['pre sum'] < 7.875]"
   ]
  },
  {
   "cell_type": "markdown",
   "metadata": {},
   "source": [
    "Subjects who have left any question blank are removed"
   ]
  },
  {
   "cell_type": "code",
   "execution_count": 53,
   "metadata": {},
   "outputs": [
    {
     "data": {
      "text/html": [
       "<div>\n",
       "<style scoped>\n",
       "    .dataframe tbody tr th:only-of-type {\n",
       "        vertical-align: middle;\n",
       "    }\n",
       "\n",
       "    .dataframe tbody tr th {\n",
       "        vertical-align: top;\n",
       "    }\n",
       "\n",
       "    .dataframe thead th {\n",
       "        text-align: right;\n",
       "    }\n",
       "</style>\n",
       "<table border=\"1\" class=\"dataframe\">\n",
       "  <thead>\n",
       "    <tr style=\"text-align: right;\">\n",
       "      <th></th>\n",
       "      <th>pre_Pregunta 2</th>\n",
       "      <th>pre_Pregunta 3</th>\n",
       "      <th>pre_Pregunta 4</th>\n",
       "      <th>pre_Pregunta 5</th>\n",
       "      <th>pre_Pregunta 6</th>\n",
       "      <th>pre_Pregunta 7</th>\n",
       "      <th>pre_Pregunta 8</th>\n",
       "      <th>pre_Pregunta 9</th>\n",
       "      <th>pre_Pregunta 10</th>\n",
       "      <th>pre_Pregunta 11</th>\n",
       "      <th>...</th>\n",
       "      <th>post_Pregunta 11</th>\n",
       "      <th>post_Pregunta 12</th>\n",
       "      <th>post_Pregunta 13</th>\n",
       "      <th>post_Pregunta 14</th>\n",
       "      <th>post_Pregunta 15</th>\n",
       "      <th>post_Pregunta 17</th>\n",
       "      <th>post_Pregunta 18</th>\n",
       "      <th>pre sum</th>\n",
       "      <th>post sum</th>\n",
       "      <th>difference</th>\n",
       "    </tr>\n",
       "  </thead>\n",
       "  <tbody>\n",
       "    <tr>\n",
       "      <td>count</td>\n",
       "      <td>135.000000</td>\n",
       "      <td>135.000000</td>\n",
       "      <td>135.000000</td>\n",
       "      <td>135.000000</td>\n",
       "      <td>135.000000</td>\n",
       "      <td>135.000000</td>\n",
       "      <td>135.000000</td>\n",
       "      <td>135.000000</td>\n",
       "      <td>135.000000</td>\n",
       "      <td>135.000000</td>\n",
       "      <td>...</td>\n",
       "      <td>135.000000</td>\n",
       "      <td>135.000000</td>\n",
       "      <td>135.000000</td>\n",
       "      <td>135.000000</td>\n",
       "      <td>135.000000</td>\n",
       "      <td>135.000000</td>\n",
       "      <td>135.000000</td>\n",
       "      <td>135.000000</td>\n",
       "      <td>135.00000</td>\n",
       "      <td>135.000000</td>\n",
       "    </tr>\n",
       "    <tr>\n",
       "      <td>mean</td>\n",
       "      <td>0.725926</td>\n",
       "      <td>0.837037</td>\n",
       "      <td>0.585185</td>\n",
       "      <td>0.548148</td>\n",
       "      <td>0.488889</td>\n",
       "      <td>0.814815</td>\n",
       "      <td>0.777778</td>\n",
       "      <td>0.585185</td>\n",
       "      <td>0.733333</td>\n",
       "      <td>0.666667</td>\n",
       "      <td>...</td>\n",
       "      <td>0.822222</td>\n",
       "      <td>0.633333</td>\n",
       "      <td>0.668519</td>\n",
       "      <td>0.725926</td>\n",
       "      <td>0.638889</td>\n",
       "      <td>4.259259</td>\n",
       "      <td>3.570370</td>\n",
       "      <td>9.225926</td>\n",
       "      <td>10.37037</td>\n",
       "      <td>1.144444</td>\n",
       "    </tr>\n",
       "    <tr>\n",
       "      <td>std</td>\n",
       "      <td>0.447708</td>\n",
       "      <td>0.370707</td>\n",
       "      <td>0.494525</td>\n",
       "      <td>0.499530</td>\n",
       "      <td>0.501738</td>\n",
       "      <td>0.389894</td>\n",
       "      <td>0.417288</td>\n",
       "      <td>0.494525</td>\n",
       "      <td>0.443864</td>\n",
       "      <td>0.473160</td>\n",
       "      <td>...</td>\n",
       "      <td>0.383750</td>\n",
       "      <td>0.265912</td>\n",
       "      <td>0.289476</td>\n",
       "      <td>0.302160</td>\n",
       "      <td>0.279369</td>\n",
       "      <td>1.014543</td>\n",
       "      <td>1.018784</td>\n",
       "      <td>2.309510</td>\n",
       "      <td>2.40022</td>\n",
       "      <td>1.973109</td>\n",
       "    </tr>\n",
       "    <tr>\n",
       "      <td>min</td>\n",
       "      <td>0.000000</td>\n",
       "      <td>0.000000</td>\n",
       "      <td>0.000000</td>\n",
       "      <td>0.000000</td>\n",
       "      <td>0.000000</td>\n",
       "      <td>0.000000</td>\n",
       "      <td>0.000000</td>\n",
       "      <td>0.000000</td>\n",
       "      <td>0.000000</td>\n",
       "      <td>0.000000</td>\n",
       "      <td>...</td>\n",
       "      <td>0.000000</td>\n",
       "      <td>0.000000</td>\n",
       "      <td>0.000000</td>\n",
       "      <td>0.000000</td>\n",
       "      <td>0.000000</td>\n",
       "      <td>1.000000</td>\n",
       "      <td>1.000000</td>\n",
       "      <td>3.500000</td>\n",
       "      <td>4.25000</td>\n",
       "      <td>-4.000000</td>\n",
       "    </tr>\n",
       "    <tr>\n",
       "      <td>25%</td>\n",
       "      <td>0.000000</td>\n",
       "      <td>1.000000</td>\n",
       "      <td>0.000000</td>\n",
       "      <td>0.000000</td>\n",
       "      <td>0.000000</td>\n",
       "      <td>1.000000</td>\n",
       "      <td>1.000000</td>\n",
       "      <td>0.000000</td>\n",
       "      <td>0.000000</td>\n",
       "      <td>0.000000</td>\n",
       "      <td>...</td>\n",
       "      <td>1.000000</td>\n",
       "      <td>0.500000</td>\n",
       "      <td>0.500000</td>\n",
       "      <td>0.500000</td>\n",
       "      <td>0.500000</td>\n",
       "      <td>4.000000</td>\n",
       "      <td>3.000000</td>\n",
       "      <td>7.875000</td>\n",
       "      <td>8.75000</td>\n",
       "      <td>0.000000</td>\n",
       "    </tr>\n",
       "    <tr>\n",
       "      <td>50%</td>\n",
       "      <td>1.000000</td>\n",
       "      <td>1.000000</td>\n",
       "      <td>1.000000</td>\n",
       "      <td>1.000000</td>\n",
       "      <td>0.000000</td>\n",
       "      <td>1.000000</td>\n",
       "      <td>1.000000</td>\n",
       "      <td>1.000000</td>\n",
       "      <td>1.000000</td>\n",
       "      <td>1.000000</td>\n",
       "      <td>...</td>\n",
       "      <td>1.000000</td>\n",
       "      <td>0.750000</td>\n",
       "      <td>0.750000</td>\n",
       "      <td>0.750000</td>\n",
       "      <td>0.750000</td>\n",
       "      <td>5.000000</td>\n",
       "      <td>4.000000</td>\n",
       "      <td>9.250000</td>\n",
       "      <td>10.75000</td>\n",
       "      <td>1.000000</td>\n",
       "    </tr>\n",
       "    <tr>\n",
       "      <td>75%</td>\n",
       "      <td>1.000000</td>\n",
       "      <td>1.000000</td>\n",
       "      <td>1.000000</td>\n",
       "      <td>1.000000</td>\n",
       "      <td>1.000000</td>\n",
       "      <td>1.000000</td>\n",
       "      <td>1.000000</td>\n",
       "      <td>1.000000</td>\n",
       "      <td>1.000000</td>\n",
       "      <td>1.000000</td>\n",
       "      <td>...</td>\n",
       "      <td>1.000000</td>\n",
       "      <td>0.750000</td>\n",
       "      <td>1.000000</td>\n",
       "      <td>1.000000</td>\n",
       "      <td>0.750000</td>\n",
       "      <td>5.000000</td>\n",
       "      <td>4.000000</td>\n",
       "      <td>11.000000</td>\n",
       "      <td>12.25000</td>\n",
       "      <td>2.250000</td>\n",
       "    </tr>\n",
       "    <tr>\n",
       "      <td>max</td>\n",
       "      <td>1.000000</td>\n",
       "      <td>1.000000</td>\n",
       "      <td>1.000000</td>\n",
       "      <td>1.000000</td>\n",
       "      <td>1.000000</td>\n",
       "      <td>1.000000</td>\n",
       "      <td>1.000000</td>\n",
       "      <td>1.000000</td>\n",
       "      <td>1.000000</td>\n",
       "      <td>1.000000</td>\n",
       "      <td>...</td>\n",
       "      <td>1.000000</td>\n",
       "      <td>1.000000</td>\n",
       "      <td>1.000000</td>\n",
       "      <td>1.000000</td>\n",
       "      <td>1.000000</td>\n",
       "      <td>5.000000</td>\n",
       "      <td>5.000000</td>\n",
       "      <td>14.000000</td>\n",
       "      <td>14.00000</td>\n",
       "      <td>8.750000</td>\n",
       "    </tr>\n",
       "  </tbody>\n",
       "</table>\n",
       "<p>8 rows × 33 columns</p>\n",
       "</div>"
      ],
      "text/plain": [
       "       pre_Pregunta 2  pre_Pregunta 3  pre_Pregunta 4  pre_Pregunta 5  \\\n",
       "count      135.000000      135.000000      135.000000      135.000000   \n",
       "mean         0.725926        0.837037        0.585185        0.548148   \n",
       "std          0.447708        0.370707        0.494525        0.499530   \n",
       "min          0.000000        0.000000        0.000000        0.000000   \n",
       "25%          0.000000        1.000000        0.000000        0.000000   \n",
       "50%          1.000000        1.000000        1.000000        1.000000   \n",
       "75%          1.000000        1.000000        1.000000        1.000000   \n",
       "max          1.000000        1.000000        1.000000        1.000000   \n",
       "\n",
       "       pre_Pregunta 6  pre_Pregunta 7  pre_Pregunta 8  pre_Pregunta 9  \\\n",
       "count      135.000000      135.000000      135.000000      135.000000   \n",
       "mean         0.488889        0.814815        0.777778        0.585185   \n",
       "std          0.501738        0.389894        0.417288        0.494525   \n",
       "min          0.000000        0.000000        0.000000        0.000000   \n",
       "25%          0.000000        1.000000        1.000000        0.000000   \n",
       "50%          0.000000        1.000000        1.000000        1.000000   \n",
       "75%          1.000000        1.000000        1.000000        1.000000   \n",
       "max          1.000000        1.000000        1.000000        1.000000   \n",
       "\n",
       "       pre_Pregunta 10  pre_Pregunta 11  ...  post_Pregunta 11  \\\n",
       "count       135.000000       135.000000  ...        135.000000   \n",
       "mean          0.733333         0.666667  ...          0.822222   \n",
       "std           0.443864         0.473160  ...          0.383750   \n",
       "min           0.000000         0.000000  ...          0.000000   \n",
       "25%           0.000000         0.000000  ...          1.000000   \n",
       "50%           1.000000         1.000000  ...          1.000000   \n",
       "75%           1.000000         1.000000  ...          1.000000   \n",
       "max           1.000000         1.000000  ...          1.000000   \n",
       "\n",
       "       post_Pregunta 12  post_Pregunta 13  post_Pregunta 14  post_Pregunta 15  \\\n",
       "count        135.000000        135.000000        135.000000        135.000000   \n",
       "mean           0.633333          0.668519          0.725926          0.638889   \n",
       "std            0.265912          0.289476          0.302160          0.279369   \n",
       "min            0.000000          0.000000          0.000000          0.000000   \n",
       "25%            0.500000          0.500000          0.500000          0.500000   \n",
       "50%            0.750000          0.750000          0.750000          0.750000   \n",
       "75%            0.750000          1.000000          1.000000          0.750000   \n",
       "max            1.000000          1.000000          1.000000          1.000000   \n",
       "\n",
       "       post_Pregunta 17  post_Pregunta 18     pre sum   post sum  difference  \n",
       "count        135.000000        135.000000  135.000000  135.00000  135.000000  \n",
       "mean           4.259259          3.570370    9.225926   10.37037    1.144444  \n",
       "std            1.014543          1.018784    2.309510    2.40022    1.973109  \n",
       "min            1.000000          1.000000    3.500000    4.25000   -4.000000  \n",
       "25%            4.000000          3.000000    7.875000    8.75000    0.000000  \n",
       "50%            5.000000          4.000000    9.250000   10.75000    1.000000  \n",
       "75%            5.000000          4.000000   11.000000   12.25000    2.250000  \n",
       "max            5.000000          5.000000   14.000000   14.00000    8.750000  \n",
       "\n",
       "[8 rows x 33 columns]"
      ]
     },
     "execution_count": 53,
     "metadata": {},
     "output_type": "execute_result"
    }
   ],
   "source": [
    "df_clean = df.dropna()\n",
    "df_clean.to_excel(\"../data/df_clean.xlsx\")\n",
    "df_clean.describe()"
   ]
  },
  {
   "cell_type": "code",
   "execution_count": 34,
   "metadata": {},
   "outputs": [],
   "source": [
    "is_boy = df_clean[\"pre_¿Cuál es tu sexo?\"] == \"Chico\"\n",
    "is_girl = df_clean[\"pre_¿Cuál es tu sexo?\"] == \"Chica\"\n",
    "is_primary = df_clean['pre_Curso'].str.contains(\"Primaria\")\n",
    "is_secondary = df_clean['pre_Curso'].str.contains(\"ESO\")\n",
    "has_experience = (df_clean['pre_Pregunta 17'] == \"Sí\") | (df_clean['pre_Pregunta 17'] == \"No, pero he programado en otro lenguage\")\n",
    "not_has_experience = df_clean['pre_Pregunta 17'] == \"No\"\n",
    "age_10_13 = (df_clean['pre_Curso'] == \"5º Primaria\") | (df_clean['pre_Curso'] == \"6º Primaria\") |(df_clean['pre_Curso'] == \"1º ESO\")\n",
    "age_13_16 = (df_clean['pre_Curso'] == \"4º ESO\") | (df_clean['pre_Curso'] == \"3º ESO\") | (df_clean['pre_Curso'] == \"4º ESO\")\n",
    "\n",
    "\n",
    "df_boy = df_clean[is_boy]\n",
    "df_girl = df_clean[is_girl]\n",
    "df_primary = df_clean[is_primary]\n",
    "df_secondary = df_clean[is_secondary]\n",
    "df_has_experience = df_clean[has_experience]\n",
    "df_not_has_experience = df_clean[not_has_experience]\n",
    "df_age_10_13 = df_clean[age_10_13]\n",
    "df_age_13_16 = df_clean[age_13_16]"
   ]
  },
  {
   "cell_type": "markdown",
   "metadata": {},
   "source": [
    "Sex distribution"
   ]
  },
  {
   "cell_type": "code",
   "execution_count": 35,
   "metadata": {},
   "outputs": [
    {
     "data": {
      "text/plain": [
       "Chico                  76\n",
       "Chica                  55\n",
       "No quiero responder     4\n",
       "Name: pre_¿Cuál es tu sexo?, dtype: int64"
      ]
     },
     "execution_count": 35,
     "metadata": {},
     "output_type": "execute_result"
    }
   ],
   "source": [
    "df_clean[\"pre_¿Cuál es tu sexo?\"].value_counts()"
   ]
  },
  {
   "cell_type": "markdown",
   "metadata": {},
   "source": [
    "Course distribution"
   ]
  },
  {
   "cell_type": "code",
   "execution_count": 36,
   "metadata": {},
   "outputs": [
    {
     "data": {
      "text/plain": [
       "4º ESO         64\n",
       "5º Primaria    24\n",
       "6º Primaria    23\n",
       "3º ESO         15\n",
       "2º ESO          6\n",
       "1º ESO          3\n",
       "Name: pre_Curso, dtype: int64"
      ]
     },
     "execution_count": 36,
     "metadata": {},
     "output_type": "execute_result"
    }
   ],
   "source": [
    "df_clean[\"pre_Curso\"].value_counts()"
   ]
  },
  {
   "cell_type": "markdown",
   "metadata": {},
   "source": [
    "Programming experience distribution"
   ]
  },
  {
   "cell_type": "code",
   "execution_count": 37,
   "metadata": {},
   "outputs": [
    {
     "data": {
      "text/plain": [
       "Sí                                         105\n",
       "No                                          27\n",
       "No, pero he programado en otro lenguage      3\n",
       "Name: pre_Pregunta 17, dtype: int64"
      ]
     },
     "execution_count": 37,
     "metadata": {},
     "output_type": "execute_result"
    }
   ],
   "source": [
    "df_clean[\"pre_Pregunta 17\"].value_counts()"
   ]
  },
  {
   "cell_type": "code",
   "execution_count": 38,
   "metadata": {},
   "outputs": [],
   "source": [
    "df_final = df_clean\n",
    "#df_final = df_boy\n",
    "#df_final = df_girl\n",
    "#df_final = df_primary\n",
    "#df_final = df_secondary\n",
    "#df_final = df_has_experience\n",
    "#df_final = df_not_has_experience\n",
    "#df_final = df_age_10_13\n",
    "#df_final = df_age_13_16"
   ]
  },
  {
   "cell_type": "code",
   "execution_count": 39,
   "metadata": {},
   "outputs": [
    {
     "data": {
      "text/plain": [
       "5.0    71\n",
       "4.0    43\n",
       "3.0    11\n",
       "2.0     5\n",
       "1.0     5\n",
       "Name: post_Pregunta 17, dtype: int64"
      ]
     },
     "execution_count": 39,
     "metadata": {},
     "output_type": "execute_result"
    }
   ],
   "source": [
    "df_clean[\"post_Pregunta 17\"].value_counts()"
   ]
  },
  {
   "cell_type": "code",
   "execution_count": 40,
   "metadata": {},
   "outputs": [
    {
     "data": {
      "text/plain": [
       "4.0    44\n",
       "3.0    42\n",
       "5.0    28\n",
       "2.0    19\n",
       "1.0     2\n",
       "Name: post_Pregunta 18, dtype: int64"
      ]
     },
     "execution_count": 40,
     "metadata": {},
     "output_type": "execute_result"
    }
   ],
   "source": [
    "df_clean[\"post_Pregunta 18\"].value_counts()"
   ]
  },
  {
   "cell_type": "code",
   "execution_count": 41,
   "metadata": {},
   "outputs": [
    {
     "data": {
      "text/plain": [
       "De reconocimiento de textos            79\n",
       "He hecho proyectos de los dos tipos    30\n",
       "De reconocimiento de imágenes          26\n",
       "Name: post_Pregunta 19, dtype: int64"
      ]
     },
     "execution_count": 41,
     "metadata": {},
     "output_type": "execute_result"
    }
   ],
   "source": [
    "df_clean[\"post_Pregunta 19\"].value_counts()"
   ]
  },
  {
   "cell_type": "markdown",
   "metadata": {},
   "source": [
    "Columns \"pre sum\", \"post sum\" and \"difference\" are statistically described."
   ]
  },
  {
   "cell_type": "code",
   "execution_count": 42,
   "metadata": {},
   "outputs": [],
   "source": [
    "df_final[['pre sum', 'post sum', 'difference']].describe()\n",
    "df_final.to_excel(\"../data/sujetos_validos_135.xlsx\")\n",
    "df_final.to_csv(\"../data/sujetos_validos_135.csv\")"
   ]
  },
  {
   "cell_type": "markdown",
   "metadata": {},
   "source": [
    "Histogram for \"pre sum\""
   ]
  },
  {
   "cell_type": "code",
   "execution_count": 43,
   "metadata": {},
   "outputs": [
    {
     "data": {
      "text/plain": [
       "array([[<matplotlib.axes._subplots.AxesSubplot object at 0x7fd260f7fa50>]],\n",
       "      dtype=object)"
      ]
     },
     "execution_count": 43,
     "metadata": {},
     "output_type": "execute_result"
    },
    {
     "data": {
      "image/png": "[encoded data removed]",
      "text/plain": [
       "<Figure size 432x288 with 1 Axes>"
      ]
     },
     "metadata": {
      "needs_background": "light"
     },
     "output_type": "display_data"
    }
   ],
   "source": [
    "df_final.hist(column=\"pre sum\", bins=20)"
   ]
  },
  {
   "cell_type": "markdown",
   "metadata": {},
   "source": [
    "Histogram for \"post sum\""
   ]
  },
  {
   "cell_type": "code",
   "execution_count": 44,
   "metadata": {},
   "outputs": [
    {
     "data": {
      "text/plain": [
       "array([[<matplotlib.axes._subplots.AxesSubplot object at 0x7fd2617def10>]],\n",
       "      dtype=object)"
      ]
     },
     "execution_count": 44,
     "metadata": {},
     "output_type": "execute_result"
    },
    {
     "data": {
      "image/png": "[encoded data removed]",
      "text/plain": [
       "<Figure size 432x288 with 1 Axes>"
      ]
     },
     "metadata": {
      "needs_background": "light"
     },
     "output_type": "display_data"
    }
   ],
   "source": [
    "df_final.hist(column=\"post sum\", bins=20)"
   ]
  },
  {
   "cell_type": "markdown",
   "metadata": {},
   "source": [
    "Histogram for \"difference\""
   ]
  },
  {
   "cell_type": "code",
   "execution_count": 45,
   "metadata": {},
   "outputs": [
    {
     "data": {
      "text/plain": [
       "array([[<matplotlib.axes._subplots.AxesSubplot object at 0x7fd260fb8890>]],\n",
       "      dtype=object)"
      ]
     },
     "execution_count": 45,
     "metadata": {},
     "output_type": "execute_result"
    },
    {
     "data": {
      "image/png": "[encoded data removed]",
      "text/plain": [
       "<Figure size 432x288 with 1 Axes>"
      ]
     },
     "metadata": {
      "needs_background": "light"
     },
     "output_type": "display_data"
    }
   ],
   "source": [
    "df_final.hist(column=\"difference\", bins=20)"
   ]
  },
  {
   "cell_type": "markdown",
   "metadata": {},
   "source": [
    "Comparison between \"pre sum\" and \"post sum\""
   ]
  },
  {
   "cell_type": "code",
   "execution_count": 46,
   "metadata": {},
   "outputs": [
    {
     "data": {
      "text/plain": [
       "<matplotlib.axes._subplots.AxesSubplot at 0x7fd261a4a0d0>"
      ]
     },
     "execution_count": 46,
     "metadata": {},
     "output_type": "execute_result"
    },
    {
     "data": {
      "image/png": "[encoded data removed]",
      "text/plain": [
       "<Figure size 432x288 with 1 Axes>"
      ]
     },
     "metadata": {
      "needs_background": "light"
     },
     "output_type": "display_data"
    }
   ],
   "source": [
    "df_final[[\"pre sum\", \"post sum\"]].plot(kind='box')"
   ]
  },
  {
   "cell_type": "markdown",
   "metadata": {},
   "source": [
    "Let's see if \"pre sum\", \"post sum\" and \"difference\" columns fit a normal distribution by means of a shapiro-wilk test."
   ]
  },
  {
   "cell_type": "code",
   "execution_count": 47,
   "metadata": {},
   "outputs": [
    {
     "data": {
      "text/plain": [
       "(0.9824779629707336, 0.08029569685459137)"
      ]
     },
     "execution_count": 47,
     "metadata": {},
     "output_type": "execute_result"
    }
   ],
   "source": [
    "stats.shapiro(df_final[\"pre sum\"])"
   ]
  },
  {
   "cell_type": "markdown",
   "metadata": {},
   "source": [
    "Column \"pre sum\" should fit a normal distribution (with alfa = 0.05)"
   ]
  },
  {
   "cell_type": "code",
   "execution_count": 48,
   "metadata": {},
   "outputs": [
    {
     "data": {
      "text/plain": [
       "(0.9364288449287415, 8.218829862016719e-06)"
      ]
     },
     "execution_count": 48,
     "metadata": {},
     "output_type": "execute_result"
    }
   ],
   "source": [
    "stats.shapiro(df_final[\"post sum\"])"
   ]
  },
  {
   "cell_type": "markdown",
   "metadata": {},
   "source": [
    "Column \"post sum\" does not fit a normal distribution"
   ]
  },
  {
   "cell_type": "code",
   "execution_count": 49,
   "metadata": {},
   "outputs": [
    {
     "data": {
      "text/plain": [
       "(0.9586162567138672, 0.00041785973007790744)"
      ]
     },
     "execution_count": 49,
     "metadata": {},
     "output_type": "execute_result"
    }
   ],
   "source": [
    "stats.shapiro(df_final[\"post sum\"] - df_final[\"pre sum\"])"
   ]
  },
  {
   "cell_type": "markdown",
   "metadata": {},
   "source": [
    "Column \"difference\" does not fit a normal distribution.\n",
    "\n",
    "Therefore, in order to check if the difference between \"post sum\" and \"pre sum\" are statistically significant we must apply some kind of non parametric test. Let's apply wilcoxon test."
   ]
  },
  {
   "cell_type": "code",
   "execution_count": 50,
   "metadata": {},
   "outputs": [
    {
     "data": {
      "text/plain": [
       "WilcoxonResult(statistic=1436.0, pvalue=1.9019885018254204e-09)"
      ]
     },
     "execution_count": 50,
     "metadata": {},
     "output_type": "execute_result"
    }
   ],
   "source": [
    "stats.wilcoxon(df_final[\"post sum\"], df_final[\"pre sum\"])"
   ]
  },
  {
   "cell_type": "markdown",
   "metadata": {},
   "source": [
    "Given that p value is very low, we can infer that the difference between pre and post result is highly unlikely to be due to chance, so this improvement could be a consequence of the intervention.\n",
    "\n",
    "Finally we are going to compute the Cohen's effect size."
   ]
  },
  {
   "cell_type": "code",
   "execution_count": 51,
   "metadata": {},
   "outputs": [
    {
     "data": {
      "text/plain": [
       "Ttest_relResult(statistic=6.739233711165212, pvalue=4.3057704761867147e-10)"
      ]
     },
     "execution_count": 51,
     "metadata": {},
     "output_type": "execute_result"
    }
   ],
   "source": [
    "stats.ttest_rel(df_final[\"post sum\"], df_final[\"pre sum\"])"
   ]
  },
  {
   "cell_type": "markdown",
   "metadata": {},
   "source": [
    "Applying a ttest to check if the difference is statistically significant, a similar result is obtained."
   ]
  },
  {
   "cell_type": "code",
   "execution_count": 52,
   "metadata": {},
   "outputs": [
    {
     "name": "stdout",
     "output_type": "stream",
     "text": [
      "Cohens d: 0.4859\n"
     ]
    }
   ],
   "source": [
    "from numpy.random import randn\n",
    "from numpy.random import seed\n",
    "from numpy import mean\n",
    "from numpy import var\n",
    "from math import sqrt\n",
    "\n",
    "def cohend(d1, d2):\n",
    "\t# calculate the size of samples\n",
    "\tn1, n2 = len(d1), len(d2)\n",
    "\t# calculate the variance of the samples\n",
    "\ts1, s2 = var(d1, ddof=1), var(d2, ddof=1)\n",
    "\t# calculate the pooled standard deviation\n",
    "\ts = sqrt(((n1 - 1) * s1 + (n2 - 1) * s2) / (n1 + n2 - 2))\n",
    "\t# calculate the means of the samples\n",
    "\tu1, u2 = mean(d1), mean(d2)\n",
    "\t# calculate the effect size\n",
    "\treturn (u1 - u2) / s\n",
    "\n",
    "d = cohend(df_final[\"post sum\"], df_final[\"pre sum\"])\n",
    "print('Cohens d: %.4f' % d)"
   ]
  },
  {
   "cell_type": "markdown",
   "metadata": {},
   "source": [
    "This result indicates a moderate effect size, so we can conclude that the intervention, in addition to having a statistical significance, has a practical significance."
   ]
  }
 ],
 "metadata": {
  "kernelspec": {
   "display_name": "Python 3",
   "language": "python",
   "name": "python3"
  },
  "language_info": {
   "codemirror_mode": {
    "name": "ipython",
    "version": 3
   },
   "file_extension": ".py",
   "mimetype": "text/x-python",
   "name": "python",
   "nbconvert_exporter": "python",
   "pygments_lexer": "ipython3",
   "version": "3.7.4"
  }
 },
 "nbformat": 4,
 "nbformat_minor": 4
}
